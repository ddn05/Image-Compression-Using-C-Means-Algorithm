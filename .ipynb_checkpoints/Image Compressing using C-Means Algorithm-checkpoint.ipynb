{
 "cells": [
  {
   "cell_type": "code",
   "execution_count": null,
   "metadata": {},
   "outputs": [],
   "source": [
    "from skimage import io\n",
    "import numpy as np\n",
    "import numpy.matlib\n",
    "\n",
    "image = io.imread('dino-jpeg.jpeg')\n",
    "io.imshow(image)\n",
    "io.show()"
   ]
  },
  {
   "cell_type": "code",
   "execution_count": null,
   "metadata": {},
   "outputs": [],
   "source": [
    "rows = image.shape[0]\n",
    "cols = image.shape[1]\n",
    "image = image/255\n",
    "X = image.reshape(image.shape[0]*image.shape[1],3)"
   ]
  },
  {
   "cell_type": "code",
   "execution_count": null,
   "metadata": {},
   "outputs": [],
   "source": [
    "K = 16 #number of clusters\n",
    "max_iters = 50 #number of times the k-mean should run"
   ]
  },
  {
   "cell_type": "code",
   "execution_count": null,
   "metadata": {},
   "outputs": [],
   "source": [
    "import random\n",
    "def init_centroids(X,K):\n",
    "    c = random.sample(list(X),K)\n",
    "    return c"
   ]
  },
  {
   "cell_type": "code",
   "execution_count": null,
   "metadata": {},
   "outputs": [],
   "source": [
    "def closest_centroids(X,c):\n",
    "    K = np.size(c,0)\n",
    "    idx = np.zeros((np.size(X,0),1))\n",
    "    arr = np.empty((np.size(X,0),1))\n",
    "    for i in range (0,K):\n",
    "        y = c[i]\n",
    "        temp = np.ones((np.size(X,0),1))*y\n",
    "        b = np.power(np.subtract(X,temp),2)\n",
    "        a = np.sum(b,axis = 1)\n",
    "        a = np.asarray(a)\n",
    "        a.resize((np.size(X,0),1))\n",
    "        #print(np.shape(a))\n",
    "        arr = np.append(arr,a,axis=1)\n",
    "    arr = np.delete(arr,0,axis=1)\n",
    "    idx = np.argmin(arr,axis=1)\n",
    "    return idx"
   ]
  },
  {
   "cell_type": "code",
   "execution_count": null,
   "metadata": {},
   "outputs": [],
   "source": [
    "def compute_centroids(X,idx,K):\n",
    "    n = np.size(X,1)\n",
    "    centroids = np.zeros((K,n))\n",
    "    for i in range(0,K):\n",
    "        ci = idx==i\n",
    "        ci = ci.astype(int)\n",
    "        total_number = sum(ci);\n",
    "        ci.resize((np.size(X,0),1))\n",
    "        total_matrix = np.matlib.repmat(ci,1,n)\n",
    "        ci = np.transpose(ci)\n",
    "        total = np.multiply(X,total_matrix)\n",
    "        centroids[i] = (1/total_number)*np.sum(total,axis=0)\n",
    "    return centroids"
   ]
  },
  {
   "cell_type": "code",
   "execution_count": null,
   "metadata": {},
   "outputs": [],
   "source": [
    "def run_kMean(X,initial_centroids,max_iters):\n",
    "    m = np.size(X,0)\n",
    "    n = np.size(X,1)\n",
    "    K = np.size(initial_centroids,0)\n",
    "    centroids = initial_centroids\n",
    "    previous_centroids = centroids\n",
    "    idx = np.zeros((m,1))\n",
    "    for i in range(1,max_iters):\n",
    "        idx = closest_centroids(X,centroids)\n",
    "        centroids = compute_centroids(X,idx,K)\n",
    "    return centroids,idx"
   ]
  },
  {
   "cell_type": "code",
   "execution_count": null,
   "metadata": {},
   "outputs": [],
   "source": [
    "initial_centroids = init_centroids(X,K)\n",
    "centroids,idx = run_kMean(X,initial_centroids,max_iters)\n",
    "#idx.resize((np.size(X,0),1))\n",
    "print(np.shape(centroids))\n",
    "print(np.shape(idx))"
   ]
  },
  {
   "cell_type": "code",
   "execution_count": null,
   "metadata": {},
   "outputs": [],
   "source": [
    "idx = closest_centroids(X,centroids)\n",
    "X_recovered = centroids[idx]\n",
    "print(np.shape(X_recovered))\n",
    "X_recovered = np.reshape(X_recovered, (rows, cols, 3))\n",
    "print(np.shape(X_recovered))"
   ]
  },
  {
   "cell_type": "code",
   "execution_count": null,
   "metadata": {},
   "outputs": [],
   "source": [
    "import scipy.misc\n",
    "scipy.misc.imsave('tiger_small.jpg', X_recovered)"
   ]
  },
  {
   "cell_type": "code",
   "execution_count": null,
   "metadata": {},
   "outputs": [],
   "source": [
    "image_compressed = io.imread('tiger_small.jpg')\n",
    "io.imshow(image_compressed)\n",
    "io.show()"
   ]
  },
  {
   "cell_type": "code",
   "execution_count": null,
   "metadata": {},
   "outputs": [],
   "source": [
    "import os\n",
    "info = os.stat('dino-jpeg.jpeg')\n",
    "print(\"size of image before running K-mean algorithm: \",info.st_size/1024,\"KB\")\n",
    "info = os.stat('tiger_small.jpg')\n",
    "print(\"size of image after running K-mean algorithm: \",info.st_size/1024,\"KB\")"
   ]
  }
 ],
 "metadata": {
  "kernelspec": {
   "display_name": "Python 3",
   "language": "python",
   "name": "python3"
  },
  "language_info": {
   "codemirror_mode": {
    "name": "ipython",
    "version": 3
   },
   "file_extension": ".py",
   "mimetype": "text/x-python",
   "name": "python",
   "nbconvert_exporter": "python",
   "pygments_lexer": "ipython3",
   "version": "3.7.7"
  }
 },
 "nbformat": 4,
 "nbformat_minor": 4
}
